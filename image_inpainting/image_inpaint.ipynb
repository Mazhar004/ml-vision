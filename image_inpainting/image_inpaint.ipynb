{
 "cells": [
  {
   "cell_type": "code",
   "execution_count": 1,
   "metadata": {
    "ExecuteTime": {
     "end_time": "2022-09-25T11:57:49.363173Z",
     "start_time": "2022-09-25T11:57:49.132127Z"
    }
   },
   "outputs": [],
   "source": [
    "import cv2\n",
    "import pytesseract\n",
    "import numpy as np\n",
    "from pytesseract import Output"
   ]
  },
  {
   "cell_type": "code",
   "execution_count": 2,
   "metadata": {
    "ExecuteTime": {
     "end_time": "2022-09-25T11:57:49.367462Z",
     "start_time": "2022-09-25T11:57:49.364635Z"
    }
   },
   "outputs": [],
   "source": [
    "def show(images):\n",
    "    for i,j in enumerate(images):\n",
    "        images[i] = cv2.resize(j,(500,500))\n",
    "    \n",
    "    while True:\n",
    "        # Press 'q' for exit\n",
    "        exit_key = ord('q')\n",
    "        if cv2.waitKey(exit_key) & 255 == exit_key:\n",
    "            cv2.destroyAllWindows()\n",
    "            break\n",
    "        for i,j in enumerate(images):\n",
    "            name = 'Image {}'.format(i)\n",
    "            cv2.imshow(name, j)"
   ]
  },
  {
   "cell_type": "code",
   "execution_count": 3,
   "metadata": {
    "ExecuteTime": {
     "end_time": "2022-09-25T11:57:49.380946Z",
     "start_time": "2022-09-25T11:57:49.368509Z"
    }
   },
   "outputs": [],
   "source": [
    "def generate_mask(image):\n",
    "    box_image = image.copy()\n",
    "    inpaint_image = image.copy()\n",
    "\n",
    "    h, w, c = image.shape\n",
    "    mask = np.ones(image.shape, dtype=np.uint8)\n",
    "    \n",
    "    gray = cv2.cvtColor(image, cv2.COLOR_BGR2GRAY)\n",
    "    thresh = gray\n",
    "\n",
    "    for i in [6]:\n",
    "        boxes = pytesseract.image_to_data(thresh,config='--psm {}'.format(i),lang='eng',output_type=Output.DICT)\n",
    "        for b in zip(boxes['text'],boxes['left'],boxes['top'],boxes['width'],boxes['height'],boxes['conf']):\n",
    "            if int(b[-1])>20 and len(b[0])>0 and b[0].strip():\n",
    "                box_image = cv2.rectangle(\n",
    "                    box_image, (b[1],b[2]), (b[1]+b[3], b[2]+b[4]), (0, 255, 0), 2)\n",
    "                mask[b[2]:b[2]+b[4],b[1]:b[1]+b[3], :] = 0\n",
    "    \n",
    "    for i in range(1):\n",
    "        inpaint_image = cv2.inpaint(inpaint_image, 1-mask[:, :, 0], 3, cv2.INPAINT_NS)\n",
    "    \n",
    "    return inpaint_image,box_image, 255*mask, image*mask"
   ]
  },
  {
   "cell_type": "code",
   "execution_count": 4,
   "metadata": {
    "ExecuteTime": {
     "end_time": "2022-09-25T11:57:51.987084Z",
     "start_time": "2022-09-25T11:57:49.381923Z"
    }
   },
   "outputs": [],
   "source": [
    "image = cv2.imread('static/original.jpeg')\n",
    "inpaint_image,box_image, mask, fusion = generate_mask(image)"
   ]
  },
  {
   "cell_type": "code",
   "execution_count": 5,
   "metadata": {
    "ExecuteTime": {
     "end_time": "2022-09-25T11:57:52.550681Z",
     "start_time": "2022-09-25T11:57:51.988444Z"
    }
   },
   "outputs": [
    {
     "data": {
      "text/plain": [
       "True"
      ]
     },
     "execution_count": 5,
     "metadata": {},
     "output_type": "execute_result"
    }
   ],
   "source": [
    "cv2.imwrite('static/1_box.png', box_image)\n",
    "cv2.imwrite('static/2_mask.png', mask)\n",
    "cv2.imwrite('static/3_mask_on_image.png', fusion)\n",
    "cv2.imwrite('static/4_inpaint.png', inpaint_image)"
   ]
  }
 ],
 "metadata": {
  "kernelspec": {
   "display_name": "Python 3",
   "language": "python",
   "name": "python3"
  },
  "language_info": {
   "codemirror_mode": {
    "name": "ipython",
    "version": 3
   },
   "file_extension": ".py",
   "mimetype": "text/x-python",
   "name": "python",
   "nbconvert_exporter": "python",
   "pygments_lexer": "ipython3",
   "version": "3.8.8"
  },
  "varInspector": {
   "cols": {
    "lenName": 16,
    "lenType": 16,
    "lenVar": 40
   },
   "kernels_config": {
    "python": {
     "delete_cmd_postfix": "",
     "delete_cmd_prefix": "del ",
     "library": "var_list.py",
     "varRefreshCmd": "print(var_dic_list())"
    },
    "r": {
     "delete_cmd_postfix": ") ",
     "delete_cmd_prefix": "rm(",
     "library": "var_list.r",
     "varRefreshCmd": "cat(var_dic_list()) "
    }
   },
   "types_to_exclude": [
    "module",
    "function",
    "builtin_function_or_method",
    "instance",
    "_Feature"
   ],
   "window_display": false
  }
 },
 "nbformat": 4,
 "nbformat_minor": 4
}
