{
 "cells": [
  {
   "cell_type": "code",
   "execution_count": 1,
   "metadata": {
    "ExecuteTime": {
     "end_time": "2021-02-04T12:53:40.653317Z",
     "start_time": "2021-02-04T12:53:40.116885Z"
    }
   },
   "outputs": [],
   "source": [
    "import re\n",
    "import numpy as np\n",
    "import pandas as pd\n",
    "\n",
    "# Computer Vision\n",
    "import cv2\n",
    "import pytesseract\n",
    "from pytesseract import Output"
   ]
  },
  {
   "cell_type": "code",
   "execution_count": 2,
   "metadata": {
    "ExecuteTime": {
     "end_time": "2021-02-04T12:53:40.701806Z",
     "start_time": "2021-02-04T12:53:40.657304Z"
    }
   },
   "outputs": [],
   "source": [
    "def image_read(filename):\n",
    "    image = cv2.imread(filename)\n",
    "    return image\n",
    "\n",
    "\n",
    "def image_2_text(image):\n",
    "    box_image = image.copy()\n",
    "    gray = cv2.cvtColor(image, cv2.COLOR_BGR2GRAY)\n",
    "\n",
    "    lines = {}\n",
    "    count = 0\n",
    "\n",
    "    boxes = pytesseract.image_to_data(\n",
    "        gray, config='--psm {}'.format(6), lang='eng', output_type=Output.DICT)\n",
    "\n",
    "    prev = 0\n",
    "    words = []\n",
    "\n",
    "    for i, j, m, e, k in zip(boxes['text'], boxes['left'], boxes['top'], boxes['width'], boxes['conf']):\n",
    "        if (j-prev) > 30:\n",
    "            if '|' not in i and '——' not in i:\n",
    "                words.append([m, j, i])\n",
    "        else:\n",
    "            try:\n",
    "                if '|' not in i and '——' not in i:\n",
    "                    words[-1][-1] += ' '+i\n",
    "            except:\n",
    "                if '|' not in i and '——' not in i:\n",
    "                    words = [[m, j, i]]\n",
    "        if '|' not in i and '——' not in i:\n",
    "            prev = j+e\n",
    "        if k == str(-1):\n",
    "            prev = 0\n",
    "            lines[count] = words\n",
    "            count += 1\n",
    "            words = []\n",
    "    return lines\n",
    "\n",
    "\n",
    "def column_format(lines):\n",
    "    columns = []\n",
    "    thres = [69, 335, 600, 865]\n",
    "\n",
    "    for i, j in lines.items():\n",
    "        column = []\n",
    "        count = 0\n",
    "        for n in thres:\n",
    "            try:\n",
    "                if abs(j[count][1]-n) < 20:\n",
    "                    column.append(j[count])\n",
    "                    count += 1\n",
    "                else:\n",
    "                    column.append([])\n",
    "            except:\n",
    "                column.append([])\n",
    "        columns.append(column)\n",
    "\n",
    "    return columns\n",
    "\n",
    "\n",
    "def data_group(columns, val=5):\n",
    "    companies_profile = []\n",
    "    temp = []\n",
    "\n",
    "    for j in range(4):\n",
    "        # Same Column\n",
    "        company_profile = []\n",
    "        for i in columns[val:]:\n",
    "            if len(i[j]):\n",
    "                company_profile.append(i[j][-1])\n",
    "            else:\n",
    "                # Line Break\n",
    "                companies_profile.append(company_profile)\n",
    "                company_profile = []\n",
    "        if len(company_profile):\n",
    "            companies_profile.append(company_profile)\n",
    "\n",
    "    return companies_profile\n",
    "\n",
    "\n",
    "def data_field(companies_profile):\n",
    "    companies_data = []\n",
    "\n",
    "    for company_profile in companies_profile:\n",
    "        if len(company_profile):\n",
    "            flag = {'company': 1, 'address': 1, 'email': 1, 'name': 1}\n",
    "            company_data = {'company': '', 'address': '',\n",
    "                            'email': '', 'name': ''}\n",
    "            for k in company_profile:\n",
    "                if flag['company'] and len(re.findall(r'[0-9]', k)) == 0:\n",
    "                    company_data['company'] += ' '+k\n",
    "                elif flag['address'] and len(re.findall(r'[0-9]', k)):\n",
    "                    flag['company'] = 0\n",
    "                    company_data['address'] += ' '+k\n",
    "                elif '@' in k or '.com' in k or 'org' in k:\n",
    "                    flag['address'] = 0\n",
    "                    company_data['email'] += k\n",
    "                else:\n",
    "                    company_data['name'] += ' '+k\n",
    "            company_data = {m: n.strip() for m, n in company_data.items()}\n",
    "            companies_data.append(company_data)\n",
    "\n",
    "    df = pd.DataFrame(companies_data)\n",
    "\n",
    "    return df\n",
    "\n",
    "\n",
    "def text_formatting(lines):\n",
    "    columns = column_format(lines)\n",
    "    companies_profile = data_group(columns)\n",
    "    df = data_field(companies_profile)\n",
    "    return df"
   ]
  },
  {
   "cell_type": "code",
   "execution_count": 3,
   "metadata": {
    "ExecuteTime": {
     "end_time": "2021-02-04T12:53:46.034892Z",
     "start_time": "2021-02-04T12:53:40.705015Z"
    }
   },
   "outputs": [],
   "source": [
    "image = image_read('static/companies.jpeg')\n",
    "lines = image_2_text(image)\n",
    "df = text_formatting(lines)"
   ]
  },
  {
   "cell_type": "code",
   "execution_count": 4,
   "metadata": {
    "ExecuteTime": {
     "end_time": "2021-02-04T12:53:46.126866Z",
     "start_time": "2021-02-04T12:53:46.037982Z"
    }
   },
   "outputs": [
    {
     "data": {
      "text/html": [
       "<div>\n",
       "<style scoped>\n",
       "    .dataframe tbody tr th:only-of-type {\n",
       "        vertical-align: middle;\n",
       "    }\n",
       "\n",
       "    .dataframe tbody tr th {\n",
       "        vertical-align: top;\n",
       "    }\n",
       "\n",
       "    .dataframe thead th {\n",
       "        text-align: right;\n",
       "    }\n",
       "</style>\n",
       "<table border=\"1\" class=\"dataframe\">\n",
       "  <thead>\n",
       "    <tr style=\"text-align: right;\">\n",
       "      <th></th>\n",
       "      <th>company</th>\n",
       "      <th>address</th>\n",
       "      <th>email</th>\n",
       "      <th>name</th>\n",
       "    </tr>\n",
       "  </thead>\n",
       "  <tbody>\n",
       "    <tr>\n",
       "      <th>0</th>\n",
       "      <td>Association of Marion Landing Owners</td>\n",
       "      <td>8457 SW 65th Ave Rd Ocala, FL 34476 352.237.72...</td>\n",
       "      <td>alewis@lelandmanagement.com</td>\n",
       "      <td>Adira Lewis</td>\n",
       "    </tr>\n",
       "    <tr>\n",
       "      <th>1</th>\n",
       "      <td>Atlantic Beach, City of</td>\n",
       "      <td>800 Seminole Road Atlantic Beach, FL 32233 904...</td>\n",
       "      <td>hmcnally@coab.us</td>\n",
       "      <td>Harry McNally</td>\n",
       "    </tr>\n",
       "    <tr>\n",
       "      <th>2</th>\n",
       "      <td>Auburn Water System, Inc.</td>\n",
       "      <td>3097 Locke Lane Crestview, FL 32536 850.682.34...</td>\n",
       "      <td></td>\n",
       "      <td>Doug Sims</td>\n",
       "    </tr>\n",
       "    <tr>\n",
       "      <th>3</th>\n",
       "      <td>Auburndale, City of</td>\n",
       "      <td>PO Box 186 Auburndale, FL 33823 863.965.5549 T...</td>\n",
       "      <td>njay@auburndalefl.com</td>\n",
       "      <td>Norris Jay</td>\n",
       "    </tr>\n",
       "    <tr>\n",
       "      <th>4</th>\n",
       "      <td>Aucilla Christian Academy</td>\n",
       "      <td>7803 Aucilla Rd Monticello, FL 32344 850.997.3...</td>\n",
       "      <td>rfinlayson@aucilla.org</td>\n",
       "      <td>Richard Finlayson</td>\n",
       "    </tr>\n",
       "  </tbody>\n",
       "</table>\n",
       "</div>"
      ],
      "text/plain": [
       "                                company  \\\n",
       "0  Association of Marion Landing Owners   \n",
       "1               Atlantic Beach, City of   \n",
       "2             Auburn Water System, Inc.   \n",
       "3                   Auburndale, City of   \n",
       "4             Aucilla Christian Academy   \n",
       "\n",
       "                                             address  \\\n",
       "0  8457 SW 65th Ave Rd Ocala, FL 34476 352.237.72...   \n",
       "1  800 Seminole Road Atlantic Beach, FL 32233 904...   \n",
       "2  3097 Locke Lane Crestview, FL 32536 850.682.34...   \n",
       "3  PO Box 186 Auburndale, FL 33823 863.965.5549 T...   \n",
       "4  7803 Aucilla Rd Monticello, FL 32344 850.997.3...   \n",
       "\n",
       "                         email               name  \n",
       "0  alewis@lelandmanagement.com        Adira Lewis  \n",
       "1             hmcnally@coab.us      Harry McNally  \n",
       "2                                       Doug Sims  \n",
       "3        njay@auburndalefl.com         Norris Jay  \n",
       "4       rfinlayson@aucilla.org  Richard Finlayson  "
      ]
     },
     "execution_count": 4,
     "metadata": {},
     "output_type": "execute_result"
    }
   ],
   "source": [
    "df.head()"
   ]
  }
 ],
 "metadata": {
  "kernelspec": {
   "display_name": "Python 3",
   "language": "python",
   "name": "python3"
  },
  "language_info": {
   "codemirror_mode": {
    "name": "ipython",
    "version": 3
   },
   "file_extension": ".py",
   "mimetype": "text/x-python",
   "name": "python",
   "nbconvert_exporter": "python",
   "pygments_lexer": "ipython3",
   "version": "3.8.8"
  },
  "varInspector": {
   "cols": {
    "lenName": 16,
    "lenType": 16,
    "lenVar": 40
   },
   "kernels_config": {
    "python": {
     "delete_cmd_postfix": "",
     "delete_cmd_prefix": "del ",
     "library": "var_list.py",
     "varRefreshCmd": "print(var_dic_list())"
    },
    "r": {
     "delete_cmd_postfix": ") ",
     "delete_cmd_prefix": "rm(",
     "library": "var_list.r",
     "varRefreshCmd": "cat(var_dic_list()) "
    }
   },
   "types_to_exclude": [
    "module",
    "function",
    "builtin_function_or_method",
    "instance",
    "_Feature"
   ],
   "window_display": false
  }
 },
 "nbformat": 4,
 "nbformat_minor": 4
}
